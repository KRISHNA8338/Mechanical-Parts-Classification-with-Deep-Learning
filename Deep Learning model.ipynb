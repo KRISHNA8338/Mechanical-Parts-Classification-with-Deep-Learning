{
 "cells": [
  {
   "cell_type": "code",
   "execution_count": 13,
   "metadata": {},
   "outputs": [],
   "source": [
    "from PIL import Image\n",
    "from skimage.io import imread\n",
    "from skimage.transform import rescale, resize\n",
    "import os\n",
    "import glob\n",
    "import string\n",
    "import pandas as pd\n",
    "import numpy as np\n",
    "import matplotlib.pyplot as plt\n",
    "from sklearn.model_selection import train_test_split\n",
    "from tensorflow.keras import applications\n",
    "import keras\n",
    "from tensorflow.keras.layers import Dense, Activation, Flatten, Conv2D, MaxPooling2D\n",
    "from tensorflow.keras.layers import Dropout\n",
    "from tensorflow.keras.losses import categorical_crossentropy\n",
    "from tensorflow.keras.models import Sequential\n",
    "from tensorflow.keras.utils import to_categorical\n",
    "from tensorflow.keras.optimizers import Adam\n",
    "from sklearn.metrics import confusion_matrix\n",
    "import seaborn as sn\n",
    "import shutil\n",
    "import random\n",
    "import cv2"
   ]
  },
  {
   "cell_type": "code",
   "execution_count": 2,
   "metadata": {},
   "outputs": [],
   "source": [
    "#use this to delete the dataset folder if needed\n",
    "#shutil.rmtree('dataset')\n"
   ]
  },
  {
   "cell_type": "code",
   "execution_count": 3,
   "metadata": {},
   "outputs": [],
   "source": [
    "try:\n",
    "    os.mkdir('dataset')\n",
    "    os.mkdir('dataset/training')\n",
    "    os.mkdir('dataset/testing')\n",
    "except OSError as error:\n",
    "    pass"
   ]
  },
  {
   "cell_type": "code",
   "execution_count": 4,
   "metadata": {},
   "outputs": [
    {
     "data": {
      "text/plain": [
       "['bolt', 'locatingpin', 'nut', 'washer']"
      ]
     },
     "execution_count": 4,
     "metadata": {},
     "output_type": "execute_result"
    }
   ],
   "source": [
    "path  = \"data/blnw-images-224\"\n",
    "#os.chdir(path)\n",
    "category_list=os.listdir(path)\n",
    "category_list\n"
   ]
  },
  {
   "cell_type": "code",
   "execution_count": 5,
   "metadata": {},
   "outputs": [
    {
     "data": {
      "text/plain": [
       "'E:\\\\Mech-parts-classification-seq-model'"
      ]
     },
     "execution_count": 5,
     "metadata": {},
     "output_type": "execute_result"
    }
   ],
   "source": [
    "os.getcwd()"
   ]
  },
  {
   "cell_type": "code",
   "execution_count": 6,
   "metadata": {},
   "outputs": [
    {
     "name": "stdout",
     "output_type": "stream",
     "text": [
      "[WinError 183] Cannot create a file when that file already exists: 'dataset/training/bolt'\n",
      "[WinError 183] Cannot create a file when that file already exists: 'dataset/testing/bolt'\n"
     ]
    }
   ],
   "source": [
    "\n",
    "os.getcwd()\n",
    "train_path = 'dataset/training'\n",
    "test_path = 'dataset/testing'\n",
    "try:\n",
    "    for i in category_list:\n",
    "        os.mkdir(train_path + '/' + i)\n",
    "        \n",
    "except OSError as e:\n",
    "    print(e)\n",
    "    \n",
    "try:\n",
    "    for i in category_list:\n",
    "        os.mkdir(test_path + '/' + i)\n",
    "        \n",
    "except OSError as e:\n",
    "    print(e)\n",
    "    \n"
   ]
  },
  {
   "cell_type": "code",
   "execution_count": 7,
   "metadata": {},
   "outputs": [],
   "source": [
    "\n",
    "src = glob.glob(path+'/*')\n",
    "test_dst = glob.glob(test_path +\"/*\")\n",
    "train_dst = glob.glob(train_path + '/*')\n",
    "\n"
   ]
  },
  {
   "cell_type": "code",
   "execution_count": 8,
   "metadata": {},
   "outputs": [],
   "source": [
    "def split_data(SOURCE, TRAINING, TESTING, SPLIT_SIZE):\n",
    "    files = []\n",
    "    for filename in os.listdir(SOURCE):\n",
    "        file = os.path.join(SOURCE , filename)\n",
    "        if os.path.getsize(file) > 0:\n",
    "            files.append(filename)\n",
    "        else:\n",
    "            print(filename + \" is zero length, so ignoring.\")\n",
    "    \n",
    "    training_length = int(len(files) * SPLIT_SIZE)\n",
    "    testing_length = int(len(files) - training_length)\n",
    "    shuffled_set = random.sample(files, len(files))\n",
    "    training_set = shuffled_set[0:training_length]\n",
    "    testing_set = shuffled_set[:testing_length]\n",
    "    \n",
    "    for filename in training_set:\n",
    "        \n",
    "        this_file = os.path.join(SOURCE, filename)\n",
    "        destination = os.path.join(TRAINING , filename)\n",
    "        image = cv2.imread(this_file)\n",
    "        image = cv2.cvtColor(image, cv2.COLOR_BGR2GRAY)\n",
    "\n",
    "        cv2.imwrite(destination,image)\n",
    "        #shutil.copy(this_file, destination)\n",
    "        \n",
    "    for filename in testing_set:\n",
    "        this_file = os.path.join(SOURCE , filename)\n",
    "        destination = os.path.join(TESTING , filename)\n",
    "        image = cv2.imread(this_file)\n",
    "        image = cv2.cvtColor(image, cv2.COLOR_BGR2GRAY)\n",
    "        \n",
    "        cv2.imwrite(destination,image)\n",
    "       \n",
    "\n"
   ]
  },
  {
   "cell_type": "code",
   "execution_count": 9,
   "metadata": {},
   "outputs": [],
   "source": [
    "# split_size = .8\n",
    "# for i,j,z in zip(src,train_dst,test_dst):\n",
    "#     split_data(i,j,z, split_size)\n"
   ]
  },
  {
   "cell_type": "code",
   "execution_count": 10,
   "metadata": {},
   "outputs": [
    {
     "name": "stdout",
     "output_type": "stream",
     "text": [
      "data/blnw-images-224\\bolt \t dataset/training\\bolt \t dataset/testing\\bolt \n",
      "\n",
      "data/blnw-images-224\\locatingpin \t dataset/training\\locatingpin \t dataset/testing\\locatingpin \n",
      "\n",
      "data/blnw-images-224\\nut \t dataset/training\\nut \t dataset/testing\\nut \n",
      "\n",
      "data/blnw-images-224\\washer \t dataset/training\\washer \t dataset/testing\\washer \n",
      "\n"
     ]
    }
   ],
   "source": [
    "for i,j,z in zip(src,train_dst,test_dst):\n",
    "    print(i,'\\t',j,'\\t',z,'\\n')"
   ]
  },
  {
   "cell_type": "markdown",
   "metadata": {},
   "source": [
    "# Sequential"
   ]
  },
  {
   "cell_type": "code",
   "execution_count": 16,
   "metadata": {},
   "outputs": [],
   "source": [
    "#Creation of a CNN . Sequential Model\n",
    "\n",
    "model = Sequential()\n",
    "#input_shape matches our input image\n",
    "model.add(Conv2D(64, (3,3), input_shape=(224, 224, 3), activation = 'relu'))\n",
    "model.add(MaxPooling2D(pool_size=(2,2)))\n",
    "model.add(Conv2D(64, (3,3), activation = 'relu'))\n",
    "model.add(MaxPooling2D(pool_size=(2,2)))\n",
    "model.add(Conv2D(64, (3,3), activation = 'relu'))\n",
    "model.add(MaxPooling2D(pool_size=(2,2)))\n",
    "model.add(Conv2D(64, (3,3), activation = 'relu'))\n",
    "model.add(MaxPooling2D(pool_size=(2,2)))\n",
    "model.add(Dropout(0.2))\n",
    "model.add(Flatten())\n",
    "model.add(Dense(64))\n",
    "model.add(Dense(4)) #data of four types\n",
    "model.add(Activation('softmax'))\n",
    "\n",
    "model.compile(loss= keras.losses.categorical_crossentropy, \n",
    "              optimizer= Adam(),metrics=['accuracy'])"
   ]
  },
  {
   "cell_type": "code",
   "execution_count": 17,
   "metadata": {
    "_kg_hide-output": true
   },
   "outputs": [
    {
     "name": "stdout",
     "output_type": "stream",
     "text": [
      "Model: \"sequential_2\"\n",
      "_________________________________________________________________\n",
      "Layer (type)                 Output Shape              Param #   \n",
      "=================================================================\n",
      "conv2d_8 (Conv2D)            (None, 222, 222, 64)      1792      \n",
      "_________________________________________________________________\n",
      "max_pooling2d_8 (MaxPooling2 (None, 111, 111, 64)      0         \n",
      "_________________________________________________________________\n",
      "conv2d_9 (Conv2D)            (None, 109, 109, 64)      36928     \n",
      "_________________________________________________________________\n",
      "max_pooling2d_9 (MaxPooling2 (None, 54, 54, 64)        0         \n",
      "_________________________________________________________________\n",
      "conv2d_10 (Conv2D)           (None, 52, 52, 64)        36928     \n",
      "_________________________________________________________________\n",
      "max_pooling2d_10 (MaxPooling (None, 26, 26, 64)        0         \n",
      "_________________________________________________________________\n",
      "conv2d_11 (Conv2D)           (None, 24, 24, 64)        36928     \n",
      "_________________________________________________________________\n",
      "max_pooling2d_11 (MaxPooling (None, 12, 12, 64)        0         \n",
      "_________________________________________________________________\n",
      "dropout_2 (Dropout)          (None, 12, 12, 64)        0         \n",
      "_________________________________________________________________\n",
      "flatten_2 (Flatten)          (None, 9216)              0         \n",
      "_________________________________________________________________\n",
      "dense_4 (Dense)              (None, 64)                589888    \n",
      "_________________________________________________________________\n",
      "dense_5 (Dense)              (None, 4)                 260       \n",
      "_________________________________________________________________\n",
      "activation_2 (Activation)    (None, 4)                 0         \n",
      "=================================================================\n",
      "Total params: 702,724\n",
      "Trainable params: 702,724\n",
      "Non-trainable params: 0\n",
      "_________________________________________________________________\n"
     ]
    }
   ],
   "source": [
    "model.summary()"
   ]
  },
  {
   "cell_type": "code",
   "execution_count": 18,
   "metadata": {},
   "outputs": [],
   "source": [
    "from tensorflow.keras.preprocessing.image import ImageDataGenerator\n",
    "\n",
    "train_datagen = ImageDataGenerator(\n",
    "        \n",
    "        rotation_range=90, \n",
    "        zoom_range = 0.1, \n",
    "        width_shift_range=0.1,  \n",
    "        height_shift_range=0.1,  \n",
    "        horizontal_flip=True,  \n",
    "        vertical_flip=True,\n",
    "        rescale = 1./255,\n",
    "        validation_split = 0.2\n",
    "        )  \n"
   ]
  },
  {
   "cell_type": "code",
   "execution_count": 19,
   "metadata": {},
   "outputs": [],
   "source": [
    "\n",
    "test_datagen = ImageDataGenerator(rescale = 1./255 )"
   ]
  },
  {
   "cell_type": "code",
   "execution_count": 20,
   "metadata": {},
   "outputs": [
    {
     "name": "stdout",
     "output_type": "stream",
     "text": [
      "Found 4876 images belonging to 4 classes.\n"
     ]
    }
   ],
   "source": [
    "# # Make sure you provide the same target size as initialied for the image size\n",
    "training_set = train_datagen.flow_from_directory(train_path,\n",
    "                                            target_size = (224, 224),\n",
    "                                            batch_size = 32,\n",
    "                                            class_mode = 'categorical',\n",
    "                                            subset = 'training',\n",
    "                                            shuffle = True)"
   ]
  },
  {
   "cell_type": "code",
   "execution_count": 21,
   "metadata": {},
   "outputs": [
    {
     "name": "stdout",
     "output_type": "stream",
     "text": [
      "Found 1216 images belonging to 4 classes.\n"
     ]
    }
   ],
   "source": [
    "val_set = train_datagen.flow_from_directory(train_path,\n",
    "                                            target_size = (224, 224),\n",
    "                                            batch_size = 32,\n",
    "                                            class_mode = 'categorical',\n",
    "                                            subset = 'validation',\n",
    "                                            shuffle = True)"
   ]
  },
  {
   "cell_type": "code",
   "execution_count": 22,
   "metadata": {},
   "outputs": [
    {
     "name": "stdout",
     "output_type": "stream",
     "text": [
      "Found 1524 images belonging to 4 classes.\n"
     ]
    }
   ],
   "source": [
    "test_set = test_datagen.flow_from_directory(test_path,\n",
    "                                            target_size = (224, 224),\n",
    "                                            batch_size = 32,\n",
    "                                            class_mode = 'categorical',\n",
    "                                            shuffle = True)"
   ]
  },
  {
   "cell_type": "code",
   "execution_count": 23,
   "metadata": {},
   "outputs": [
    {
     "name": "stdout",
     "output_type": "stream",
     "text": [
      "WARNING:tensorflow:sample_weight modes were coerced from\n",
      "  ...\n",
      "    to  \n",
      "  ['...']\n",
      "WARNING:tensorflow:sample_weight modes were coerced from\n",
      "  ...\n",
      "    to  \n",
      "  ['...']\n",
      "Train for 153 steps, validate for 48 steps\n",
      "Epoch 1/50\n",
      "153/153 [==============================] - 101s 657ms/step - loss: 1.3432 - accuracy: 0.3587 - val_loss: 1.1347 - val_accuracy: 0.5650\n",
      "Epoch 2/50\n",
      "153/153 [==============================] - 44s 288ms/step - loss: 1.1452 - accuracy: 0.5018 - val_loss: 0.8488 - val_accuracy: 0.6240\n",
      "Epoch 3/50\n",
      "153/153 [==============================] - 45s 295ms/step - loss: 0.9809 - accuracy: 0.5814 - val_loss: 0.7621 - val_accuracy: 0.6660\n",
      "Epoch 4/50\n",
      "153/153 [==============================] - 46s 298ms/step - loss: 0.8589 - accuracy: 0.6167 - val_loss: 0.7281 - val_accuracy: 0.6929\n",
      "Epoch 5/50\n",
      "153/153 [==============================] - 46s 302ms/step - loss: 0.8911 - accuracy: 0.6237 - val_loss: 0.8214 - val_accuracy: 0.6640\n",
      "Epoch 6/50\n",
      "153/153 [==============================] - 47s 305ms/step - loss: 0.7573 - accuracy: 0.6749 - val_loss: 0.6437 - val_accuracy: 0.7270\n",
      "Epoch 7/50\n",
      "153/153 [==============================] - 48s 311ms/step - loss: 0.7532 - accuracy: 0.6801 - val_loss: 0.6450 - val_accuracy: 0.7310\n",
      "Epoch 8/50\n",
      "153/153 [==============================] - 48s 314ms/step - loss: 0.6972 - accuracy: 0.7065 - val_loss: 0.5193 - val_accuracy: 0.8123\n",
      "Epoch 9/50\n",
      "153/153 [==============================] - 49s 318ms/step - loss: 0.6453 - accuracy: 0.7356 - val_loss: 0.4936 - val_accuracy: 0.7966\n",
      "Epoch 10/50\n",
      "153/153 [==============================] - 50s 327ms/step - loss: 0.5895 - accuracy: 0.7576 - val_loss: 0.5293 - val_accuracy: 0.7894\n",
      "Epoch 11/50\n",
      "153/153 [==============================] - 49s 322ms/step - loss: 0.5838 - accuracy: 0.7670 - val_loss: 0.4214 - val_accuracy: 0.8235\n",
      "Epoch 12/50\n",
      "153/153 [==============================] - 49s 323ms/step - loss: 0.5505 - accuracy: 0.7748 - val_loss: 0.5410 - val_accuracy: 0.7651\n",
      "Epoch 13/50\n",
      "153/153 [==============================] - 50s 325ms/step - loss: 0.5081 - accuracy: 0.7875 - val_loss: 0.4072 - val_accuracy: 0.8274\n",
      "Epoch 14/50\n",
      "153/153 [==============================] - 50s 324ms/step - loss: 0.4924 - accuracy: 0.7900 - val_loss: 0.3387 - val_accuracy: 0.8622\n",
      "Epoch 15/50\n",
      "153/153 [==============================] - 50s 325ms/step - loss: 0.4727 - accuracy: 0.7996 - val_loss: 0.5299 - val_accuracy: 0.7999\n",
      "Epoch 16/50\n",
      "153/153 [==============================] - 50s 326ms/step - loss: 0.4544 - accuracy: 0.8140 - val_loss: 0.3536 - val_accuracy: 0.8438\n",
      "Epoch 17/50\n",
      "153/153 [==============================] - 50s 325ms/step - loss: 0.5853 - accuracy: 0.7609 - val_loss: 0.7482 - val_accuracy: 0.6988\n",
      "Epoch 18/50\n",
      "153/153 [==============================] - 50s 329ms/step - loss: 1.0934 - accuracy: 0.5402 - val_loss: 0.9301 - val_accuracy: 0.6673\n",
      "Epoch 19/50\n",
      "153/153 [==============================] - 50s 330ms/step - loss: 0.8594 - accuracy: 0.6651 - val_loss: 0.7107 - val_accuracy: 0.7133\n",
      "Epoch 20/50\n",
      "153/153 [==============================] - 50s 328ms/step - loss: 0.5895 - accuracy: 0.7711 - val_loss: 0.4149 - val_accuracy: 0.8255\n",
      "Epoch 21/50\n",
      "153/153 [==============================] - 50s 329ms/step - loss: 0.4842 - accuracy: 0.7998 - val_loss: 0.3912 - val_accuracy: 0.8517\n",
      "Epoch 22/50\n",
      "153/153 [==============================] - 52s 340ms/step - loss: 0.4369 - accuracy: 0.8185 - val_loss: 0.3309 - val_accuracy: 0.8688\n",
      "Epoch 23/50\n",
      "153/153 [==============================] - 51s 332ms/step - loss: 0.4153 - accuracy: 0.8288 - val_loss: 0.2795 - val_accuracy: 0.8924\n",
      "Epoch 24/50\n",
      "153/153 [==============================] - 50s 330ms/step - loss: 0.3872 - accuracy: 0.8409 - val_loss: 0.3510 - val_accuracy: 0.8609\n",
      "Epoch 25/50\n",
      "153/153 [==============================] - 50s 330ms/step - loss: 0.3772 - accuracy: 0.8452 - val_loss: 0.2896 - val_accuracy: 0.8780\n",
      "Epoch 26/50\n",
      "153/153 [==============================] - 52s 341ms/step - loss: 0.3799 - accuracy: 0.8464 - val_loss: 0.2680 - val_accuracy: 0.8983\n",
      "Epoch 27/50\n",
      "153/153 [==============================] - 51s 333ms/step - loss: 0.3713 - accuracy: 0.8515 - val_loss: 0.3448 - val_accuracy: 0.8537\n",
      "Epoch 28/50\n",
      "153/153 [==============================] - 52s 338ms/step - loss: 0.4052 - accuracy: 0.8419 - val_loss: 0.2589 - val_accuracy: 0.9016\n",
      "Epoch 29/50\n",
      "153/153 [==============================] - 52s 342ms/step - loss: 0.3621 - accuracy: 0.8540 - val_loss: 0.2780 - val_accuracy: 0.8799\n",
      "Epoch 30/50\n",
      "153/153 [==============================] - 52s 340ms/step - loss: 0.3797 - accuracy: 0.8458 - val_loss: 0.4062 - val_accuracy: 0.8406\n",
      "Epoch 31/50\n",
      "153/153 [==============================] - 52s 337ms/step - loss: 0.3570 - accuracy: 0.8562 - val_loss: 0.2721 - val_accuracy: 0.8963\n",
      "Epoch 32/50\n",
      "153/153 [==============================] - 52s 337ms/step - loss: 0.3509 - accuracy: 0.8552 - val_loss: 0.3741 - val_accuracy: 0.8734\n",
      "Epoch 33/50\n",
      "153/153 [==============================] - 52s 340ms/step - loss: 0.3434 - accuracy: 0.8603 - val_loss: 0.3340 - val_accuracy: 0.8780\n",
      "Epoch 34/50\n",
      "153/153 [==============================] - 52s 340ms/step - loss: 0.3164 - accuracy: 0.8751 - val_loss: 0.3322 - val_accuracy: 0.8924\n",
      "Epoch 35/50\n",
      "153/153 [==============================] - 53s 347ms/step - loss: 0.4585 - accuracy: 0.8195 - val_loss: 0.2490 - val_accuracy: 0.8983\n",
      "Epoch 36/50\n",
      "153/153 [==============================] - 52s 337ms/step - loss: 0.3283 - accuracy: 0.8685 - val_loss: 0.2511 - val_accuracy: 0.9055\n",
      "Epoch 37/50\n",
      "153/153 [==============================] - 52s 339ms/step - loss: 0.3228 - accuracy: 0.8710 - val_loss: 0.2432 - val_accuracy: 0.9134\n",
      "Epoch 38/50\n",
      "153/153 [==============================] - 52s 337ms/step - loss: 0.3142 - accuracy: 0.8831 - val_loss: 0.2575 - val_accuracy: 0.8983\n",
      "Epoch 39/50\n",
      "153/153 [==============================] - 52s 342ms/step - loss: 0.3375 - accuracy: 0.8679 - val_loss: 0.2646 - val_accuracy: 0.9062\n",
      "Epoch 40/50\n",
      "153/153 [==============================] - 52s 339ms/step - loss: 0.3043 - accuracy: 0.8821 - val_loss: 0.2354 - val_accuracy: 0.9193\n",
      "Epoch 41/50\n",
      "153/153 [==============================] - 53s 345ms/step - loss: 0.3026 - accuracy: 0.8823 - val_loss: 0.2922 - val_accuracy: 0.9042\n",
      "Epoch 42/50\n",
      "153/153 [==============================] - 52s 339ms/step - loss: 0.2863 - accuracy: 0.8872 - val_loss: 0.2548 - val_accuracy: 0.9016\n",
      "Epoch 43/50\n",
      "153/153 [==============================] - 51s 336ms/step - loss: 0.3050 - accuracy: 0.8858 - val_loss: 0.2218 - val_accuracy: 0.9101\n",
      "Epoch 44/50\n",
      "153/153 [==============================] - 53s 343ms/step - loss: 0.2915 - accuracy: 0.8923 - val_loss: 0.2306 - val_accuracy: 0.9088\n",
      "Epoch 45/50\n",
      "153/153 [==============================] - 53s 347ms/step - loss: 0.3041 - accuracy: 0.8827 - val_loss: 0.2325 - val_accuracy: 0.9186\n",
      "Epoch 46/50\n",
      "153/153 [==============================] - 52s 340ms/step - loss: 0.2729 - accuracy: 0.8917 - val_loss: 0.2422 - val_accuracy: 0.9140\n",
      "Epoch 47/50\n",
      "153/153 [==============================] - 52s 338ms/step - loss: 0.2829 - accuracy: 0.8923 - val_loss: 0.2425 - val_accuracy: 0.9108\n",
      "Epoch 48/50\n",
      "153/153 [==============================] - 52s 338ms/step - loss: 0.2798 - accuracy: 0.8936 - val_loss: 0.2497 - val_accuracy: 0.8990\n",
      "Epoch 49/50\n",
      "153/153 [==============================] - 52s 339ms/step - loss: 0.2805 - accuracy: 0.8890 - val_loss: 0.2136 - val_accuracy: 0.9272\n",
      "Epoch 50/50\n",
      "153/153 [==============================] - 52s 338ms/step - loss: 0.2818 - accuracy: 0.8934 - val_loss: 0.1963 - val_accuracy: 0.9291\n"
     ]
    }
   ],
   "source": [
    "history = model.fit(\n",
    "  training_set,\n",
    "  validation_data= test_set,\n",
    "  epochs= 50,\n",
    "  shuffle = True,\n",
    "  steps_per_epoch=len(training_set),\n",
    "  validation_steps=len(test_set)\n",
    "  \n",
    ")"
   ]
  },
  {
   "cell_type": "code",
   "execution_count": 24,
   "metadata": {},
   "outputs": [
    {
     "name": "stdout",
     "output_type": "stream",
     "text": [
      "WARNING:tensorflow:sample_weight modes were coerced from\n",
      "  ...\n",
      "    to  \n",
      "  ['...']\n",
      "48/48 [==============================] - 3s 54ms/step - loss: 0.1963 - accuracy: 0.9291\n"
     ]
    },
    {
     "data": {
      "text/plain": [
       "[0.19626732108493647, 0.92913383]"
      ]
     },
     "execution_count": 24,
     "metadata": {},
     "output_type": "execute_result"
    }
   ],
   "source": [
    "model.evaluate(test_set)"
   ]
  },
  {
   "cell_type": "code",
   "execution_count": 25,
   "metadata": {},
   "outputs": [],
   "source": [
    "model.save('mech2.h5')"
   ]
  },
  {
   "cell_type": "code",
   "execution_count": null,
   "metadata": {},
   "outputs": [],
   "source": [
    "history.history"
   ]
  },
  {
   "cell_type": "code",
   "execution_count": 32,
   "metadata": {},
   "outputs": [
    {
     "data": {
      "image/png": "[encoded data removed]",
      "text/plain": [
       "<Figure size 432x288 with 1 Axes>"
      ]
     },
     "metadata": {
      "needs_background": "light"
     },
     "output_type": "display_data"
    },
    {
     "data": {
      "text/plain": [
       "<Figure size 432x288 with 0 Axes>"
      ]
     },
     "metadata": {},
     "output_type": "display_data"
    }
   ],
   "source": [
    "loss_train = history.history['loss']\n",
    "loss_val = history.history['val_loss']\n",
    "#epochs = range(1,no_epochs+1)\n",
    "plt.plot( loss_train, 'g', label='Training loss')\n",
    "plt.plot( loss_val, 'b', label='validation loss')\n",
    "plt.title('Training and Validation loss')\n",
    "plt.xlabel('Epochs')\n",
    "plt.ylabel('Loss')\n",
    "plt.legend()\n",
    "plt.show()\n",
    "plt.savefig('train-val loss')"
   ]
  },
  {
   "cell_type": "code",
   "execution_count": 31,
   "metadata": {},
   "outputs": [
    {
     "data": {
      "image/png": "[encoded data removed]",
      "text/plain": [
       "<Figure size 432x288 with 1 Axes>"
      ]
     },
     "metadata": {
      "needs_background": "light"
     },
     "output_type": "display_data"
    },
    {
     "data": {
      "text/plain": [
       "<Figure size 432x288 with 0 Axes>"
      ]
     },
     "metadata": {},
     "output_type": "display_data"
    }
   ],
   "source": [
    "loss_train = history.history['accuracy']\n",
    "loss_val = history.history['val_accuracy']\n",
    "#epochs = range(1,no_epochs+1)\n",
    "plt.plot( loss_train, 'g', label='Training Accuracy')\n",
    "plt.plot( loss_val, 'b', label='validation Accuracy')\n",
    "plt.title('Training and Validation accuracy')\n",
    "plt.xlabel('Epochs')\n",
    "plt.ylabel('Accuracy')\n",
    "plt.legend()\n",
    "plt.show()\n",
    "plt.savefig('train-val-accuracy')"
   ]
  },
  {
   "cell_type": "code",
   "execution_count": null,
   "metadata": {},
   "outputs": [],
   "source": []
  },
  {
   "cell_type": "code",
   "execution_count": null,
   "metadata": {},
   "outputs": [],
   "source": []
  }
 ],
 "metadata": {
  "kernelspec": {
   "display_name": "Python 3",
   "language": "python",
   "name": "python3"
  },
  "language_info": {
   "codemirror_mode": {
    "name": "ipython",
    "version": 3
   },
   "file_extension": ".py",
   "mimetype": "text/x-python",
   "name": "python",
   "nbconvert_exporter": "python",
   "pygments_lexer": "ipython3",
   "version": "3.7.7"
  }
 },
 "nbformat": 4,
 "nbformat_minor": 4
}
